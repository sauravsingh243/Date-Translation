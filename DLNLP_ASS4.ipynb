{
 "cells": [
  {
   "cell_type": "code",
   "execution_count": 809,
   "metadata": {
    "id": "Hz7r1Q83JGaq"
   },
   "outputs": [],
   "source": [
    "import numpy as np\n",
    "import pandas as pd\n",
    "import matplotlib.pyplot as plt\n",
    "import torch\n",
    "import torch.nn as nn\n",
    "import torch.nn.functional as F\n",
    "from torch import optim\n",
    "from torch.utils.data import TensorDataset, DataLoader\n",
    "from torch.utils.data import random_split\n",
    "import random\n",
    "from tqdm import tqdm"
   ]
  },
  {
   "cell_type": "code",
   "execution_count": 810,
   "metadata": {},
   "outputs": [],
   "source": [
    "def oneHot(position, maxLength):\n",
    "  res = np.zeros(maxLength)\n",
    "  res[position] = 1\n",
    "  return res"
   ]
  },
  {
   "cell_type": "code",
   "execution_count": 811,
   "metadata": {},
   "outputs": [],
   "source": [
    "gloveOutput = {'0': oneHot(0,13), '1': oneHot(1,13), '2': oneHot(2,13), '3': oneHot(3,13), '4': oneHot(4,13),\n",
    "                '5': oneHot(5,13), '6': oneHot(6,13), '7': oneHot(7,13), '8': oneHot(8,13), '9': oneHot(9,13),\n",
    "                '-': oneHot(10,13), '<sot>': oneHot(11,13), '<eot>': oneHot(12,13)}\n",
    "reverseGloveOutput = {0 : '0', 1 : '1', 2 : '2', 3 : '3', 4 : '4', 5 : '5', 6 : '6', 7 : '7', 8 : '8', 9 : '9', 10 : '-', 11 : '<sot>', 12 : '<eot>'}"
   ]
  },
  {
   "cell_type": "code",
   "execution_count": 812,
   "metadata": {
    "id": "0ZyDJeL9YZn2"
   },
   "outputs": [],
   "source": [
    "gloveInput = {' ': oneHot(0,33), '/': oneHot(1,33), '0': oneHot(2,33), '1': oneHot(3,33), '2': oneHot(4,33), '3': oneHot(5,33),\n",
    "        '4': oneHot(6,33), '5': oneHot(7,33), '6': oneHot(8,33), '7': oneHot(9,33), '8': oneHot(10,33), '9': oneHot(11,33),\n",
    "        'a': oneHot(12,33), 'b': oneHot(13,33), 'c': oneHot(14,33), 'd': oneHot(15,33), 'e': oneHot(16,33), 'f': oneHot(17,33),\n",
    "        'g': oneHot(18,33), 'h': oneHot(19,33), 'i': oneHot(20,33), 'j': oneHot(21,33), 'l': oneHot(22,33), 'm': oneHot(23,33), \n",
    "        'n': oneHot(24,33), 'o': oneHot(25,33), 'p': oneHot(26,33), 'r': oneHot(27,33), 's': oneHot(28,33), 't': oneHot(29,33),\n",
    "        'u': oneHot(30,33), 'v': oneHot(31,33), 'y': oneHot(32,33)}\n",
    "\n",
    "reverseGloveInput = {0 : ' ', 1 : '/', 2 : '0', 3 : '1', 4 : '2', 5 : '3',  6 : '4', 7 : '5', 8 : '6',  9 : '7',  10 : '8',  11 : '9', 12 : 'a', 13 : 'b', 14 : 'c', 15 : 'd',\n",
    "        16 : 'e', 17 : 'f', 18 : 'g', 19 : 'h', 20 : 'i', 21 : 'j', 22 : 'l', 23 : 'm' , 24 : 'n' , 25 : 'o', 26 : 'p', 27 : 'r', 28 : 's', 29 : 't', 30 : 'u', 31 : 'v',\n",
    "        32 : 'y'} "
   ]
  },
  {
   "cell_type": "code",
   "execution_count": 813,
   "metadata": {
    "colab": {
     "base_uri": "https://localhost:8080/"
    },
    "id": "F6mrj2IQ3sxt",
    "outputId": "cedcacc5-aa46-49bc-87d8-2a4a62bb0e72"
   },
   "outputs": [
    {
     "data": {
      "text/plain": [
       "device(type='cuda')"
      ]
     },
     "execution_count": 813,
     "metadata": {},
     "output_type": "execute_result"
    }
   ],
   "source": [
    "device = torch.device('cuda' if torch.cuda.is_available() else 'cpu')\n",
    "device"
   ]
  },
  {
   "cell_type": "code",
   "execution_count": 814,
   "metadata": {
    "id": "XNXRtWiTL8sh"
   },
   "outputs": [],
   "source": [
    "days = ['mon','monday','tue','tuesday','wed','wednesday','thu','thursday','fri','friday','sat','saturday','sun','sunday']"
   ]
  },
  {
   "cell_type": "code",
   "execution_count": 815,
   "metadata": {
    "id": "wO4B3FC-YRx2"
   },
   "outputs": [],
   "source": [
    "def preProcess(inputWithOutPreProcess):\n",
    "  wordlist = inputWithOutPreProcess.split()\n",
    "  for j in wordlist:\n",
    "    if j in days:\n",
    "      inputWithOutPreProcess = inputWithOutPreProcess.replace(j, \"\\b\")\n",
    "  return inputWithOutPreProcess"
   ]
  },
  {
   "cell_type": "code",
   "execution_count": 816,
   "metadata": {
    "id": "8RboKfRXKqJ4"
   },
   "outputs": [],
   "source": [
    "path = open('/home/saurav/DLNP Assignment/DLNLP_ASS4/Assignment4aDataset.txt','r')\n",
    "data = path.readlines()\n",
    "\n",
    "for i in range(0, len(data)):\n",
    "  data[i] = data[i].strip()\n",
    "  data[i] = data[i].lower()\n",
    "  data[i] = data[i].split(\", \")"
   ]
  },
  {
   "cell_type": "code",
   "execution_count": 817,
   "metadata": {
    "colab": {
     "base_uri": "https://localhost:8080/",
     "height": 363
    },
    "id": "y7ob0ewTJ4Rc",
    "outputId": "092e9080-413e-4c4a-eee6-6818bcbd7382"
   },
   "outputs": [
    {
     "data": {
      "text/html": [
       "<div>\n",
       "<style scoped>\n",
       "    .dataframe tbody tr th:only-of-type {\n",
       "        vertical-align: middle;\n",
       "    }\n",
       "\n",
       "    .dataframe tbody tr th {\n",
       "        vertical-align: top;\n",
       "    }\n",
       "\n",
       "    .dataframe thead th {\n",
       "        text-align: right;\n",
       "    }\n",
       "</style>\n",
       "<table border=\"1\" class=\"dataframe\">\n",
       "  <thead>\n",
       "    <tr style=\"text-align: right;\">\n",
       "      <th></th>\n",
       "      <th>input</th>\n",
       "      <th>output</th>\n",
       "    </tr>\n",
       "  </thead>\n",
       "  <tbody>\n",
       "    <tr>\n",
       "      <th>0</th>\n",
       "      <td>'may 20 2034'</td>\n",
       "      <td>'2034-05-20'</td>\n",
       "    </tr>\n",
       "    <tr>\n",
       "      <th>1</th>\n",
       "      <td>'9 may 1630'</td>\n",
       "      <td>'1630-05-09'</td>\n",
       "    </tr>\n",
       "    <tr>\n",
       "      <th>2</th>\n",
       "      <td>'15/03/2014'</td>\n",
       "      <td>'2014-03-15'</td>\n",
       "    </tr>\n",
       "    <tr>\n",
       "      <th>3</th>\n",
       "      <td>'mar 16 1675'</td>\n",
       "      <td>'1675-03-16'</td>\n",
       "    </tr>\n",
       "    <tr>\n",
       "      <th>4</th>\n",
       "      <td>'jun 16 1640'</td>\n",
       "      <td>'1640-06-16'</td>\n",
       "    </tr>\n",
       "    <tr>\n",
       "      <th>5</th>\n",
       "      <td>'friday 1791 2 09'</td>\n",
       "      <td>'1791-09-02'</td>\n",
       "    </tr>\n",
       "    <tr>\n",
       "      <th>6</th>\n",
       "      <td>'wed 1776 11 september'</td>\n",
       "      <td>'1776-09-11'</td>\n",
       "    </tr>\n",
       "    <tr>\n",
       "      <th>7</th>\n",
       "      <td>'1833 9 jun'</td>\n",
       "      <td>'1833-06-09'</td>\n",
       "    </tr>\n",
       "    <tr>\n",
       "      <th>8</th>\n",
       "      <td>'sun 26 oct 1788'</td>\n",
       "      <td>'1788-10-26'</td>\n",
       "    </tr>\n",
       "    <tr>\n",
       "      <th>9</th>\n",
       "      <td>'1685 30 oct'</td>\n",
       "      <td>'1685-10-30'</td>\n",
       "    </tr>\n",
       "  </tbody>\n",
       "</table>\n",
       "</div>"
      ],
      "text/plain": [
       "                     input        output\n",
       "0            'may 20 2034'  '2034-05-20'\n",
       "1             '9 may 1630'  '1630-05-09'\n",
       "2             '15/03/2014'  '2014-03-15'\n",
       "3            'mar 16 1675'  '1675-03-16'\n",
       "4            'jun 16 1640'  '1640-06-16'\n",
       "5       'friday 1791 2 09'  '1791-09-02'\n",
       "6  'wed 1776 11 september'  '1776-09-11'\n",
       "7             '1833 9 jun'  '1833-06-09'\n",
       "8        'sun 26 oct 1788'  '1788-10-26'\n",
       "9            '1685 30 oct'  '1685-10-30'"
      ]
     },
     "execution_count": 817,
     "metadata": {},
     "output_type": "execute_result"
    }
   ],
   "source": [
    "df = pd.DataFrame(data = data, columns = ['input', 'output'])\n",
    "df.head(10)"
   ]
  },
  {
   "cell_type": "code",
   "execution_count": 818,
   "metadata": {
    "id": "ezr4r05qBmjN"
   },
   "outputs": [],
   "source": [
    "inputX = np.char.lower(np.char.replace(list(df['input']),\"'\",\"\"))\n",
    "inputY = np.char.lower(np.char.replace(list(df['output']),\"'\",\"\"))"
   ]
  },
  {
   "cell_type": "code",
   "execution_count": 819,
   "metadata": {
    "id": "LPqkdpJY49Qg"
   },
   "outputs": [],
   "source": [
    "def preProcess1(sample):\n",
    "  tokens = sample.split()\n",
    "  filteredTokens = []\n",
    "  for i in tokens:\n",
    "    if i not in days:\n",
    "      filteredTokens.append(i)\n",
    "  charList = []\n",
    "  n = len(filteredTokens)\n",
    "  for i in range(n):\n",
    "    currCharList = list(filteredTokens[i])\n",
    "    if(i != n-1):\n",
    "      currCharList.append(' ')\n",
    "    charList.extend(currCharList)\n",
    "  return charList\n",
    "\n",
    "\n",
    "def preProcess2(charList, maxLength):\n",
    "  for i in range(maxLength - len(charList)):\n",
    "    charList.append(' ')\n",
    "  vectorRep = []\n",
    "  for i in charList:\n",
    "    vectorRep.append(gloveInput[i]);\n",
    "  return vectorRep\n"
   ]
  },
  {
   "cell_type": "code",
   "execution_count": 820,
   "metadata": {
    "id": "7kotJrSj6ext"
   },
   "outputs": [],
   "source": [
    "completeCharList = [preProcess1(sample) for sample in inputX]\n",
    "maxLength = 0\n",
    "for charList in completeCharList:\n",
    "  maxLength = max(maxLength, len(charList))\n",
    "\n",
    "train_X = [preProcess2(charList, maxLength) for charList in completeCharList]\n",
    "train_X = np.array(train_X)\n",
    "\n",
    "\n",
    "\n",
    "train_Y = []\n",
    "for sample in inputY:\n",
    "  temp = list(sample)\n",
    "  temp.insert(0, '<sot>')\n",
    "  temp.append('<eot>')\n",
    "  train_Y.append(temp)\n",
    "train_Y = np.array(train_Y)\n",
    "\n"
   ]
  },
  {
   "cell_type": "code",
   "execution_count": 821,
   "metadata": {
    "id": "IdksH8UkB8Ok"
   },
   "outputs": [],
   "source": [
    "y = []\n",
    "for i in train_Y:\n",
    "  ss = []\n",
    "  for j in i:\n",
    "    ss.append(gloveOutput[j])\n",
    "  y.append(ss)\n",
    "train_Y = np.array(y)\n"
   ]
  },
  {
   "cell_type": "code",
   "execution_count": 822,
   "metadata": {
    "colab": {
     "base_uri": "https://localhost:8080/"
    },
    "id": "-Xpyc9gtDP67",
    "outputId": "b1b6c2ba-3cce-41a4-8f1b-e065eaba9ace"
   },
   "outputs": [
    {
     "name": "stdout",
     "output_type": "stream",
     "text": [
      "(40000, 17, 33)\n",
      "(40000, 12, 13)\n"
     ]
    }
   ],
   "source": [
    "print(train_X.shape)\n",
    "print(train_Y.shape)"
   ]
  },
  {
   "cell_type": "code",
   "execution_count": 823,
   "metadata": {
    "id": "qiYHaPbAmTxM"
   },
   "outputs": [],
   "source": [
    "train_x = torch.Tensor(train_X)\n",
    "train_y = torch.Tensor(train_Y)\n",
    "train_y = train_y.type(torch.LongTensor)\n",
    "dataset = TensorDataset(train_x,train_y)\n",
    "training, validation = random_split(dataset, [36000, 4000])\n",
    "batch_size = 400\n",
    "trainLoader = torch.utils.data.DataLoader(dataset=training, batch_size=batch_size, shuffle=True)\n",
    "valLoader = torch.utils.data.DataLoader(dataset=validation, batch_size=batch_size, shuffle=True)"
   ]
  },
  {
   "cell_type": "code",
   "execution_count": 824,
   "metadata": {},
   "outputs": [],
   "source": [
    "class Encoder(nn.Module):\n",
    "    def __init__(self, inputSize, outputSize, num_layers, dropout):\n",
    "        super(Encoder, self).__init__()\n",
    "        self.inputSize = inputSize\n",
    "        self.outputSize = outputSize\n",
    "        self.num_layers = num_layers\n",
    "        self.dropout = dropout\n",
    "        self.LSTM = nn.LSTM(inputSize, outputSize, num_layers = num_layers, batch_first = True, bidirectional = False, dropout = dropout)\n",
    "\n",
    "    def forward(self, x):\n",
    "        output, (hidden, cell) = self.LSTM(x)\n",
    "        return output, hidden, cell"
   ]
  },
  {
   "cell_type": "code",
   "execution_count": 825,
   "metadata": {},
   "outputs": [],
   "source": [
    "class Decoder(nn.Module):\n",
    "    def __init__(self, inputSize, hiddenSize, outputSize, num_layers, dropout):\n",
    "        super(Decoder, self).__init__()\n",
    "        self.inputSize = inputSize\n",
    "        self.hiddenSize = hiddenSize\n",
    "        self.outputSize = outputSize\n",
    "        self.num_layers = num_layers\n",
    "        self.dropout = dropout\n",
    "        self.LSTM = nn.LSTM(inputSize, hiddenSize, num_layers = num_layers, dropout = dropout, batch_first = True, bidirectional = False)\n",
    "        self.FC = nn.Linear(hiddenSize, inputSize)\n",
    "\n",
    "    def forward(self, x, hidden, cell):\n",
    "        output, (hidden, cell) = self.LSTM(x.float(), (hidden, cell))\n",
    "        output = self.FC(output)\n",
    "        return output, hidden, cell"
   ]
  },
  {
   "cell_type": "code",
   "execution_count": 826,
   "metadata": {},
   "outputs": [],
   "source": [
    "class AttentionDecoder(nn.Module):\n",
    "    def __init__(self, inputSize, hiddenSize, outputSize, num_layers, dropout):\n",
    "        super(AttentionDecoder, self).__init__()\n",
    "        self.inputSize = inputSize\n",
    "        self.hiddenSize = hiddenSize\n",
    "        self.outputSize = outputSize\n",
    "        self.num_layers = num_layers\n",
    "        self.dropout = dropout\n",
    "\n",
    "        self.linear1 = nn.Linear(inputSize, hiddenSize)\n",
    "        self.attentionLinear1 = nn.Linear(self.hiddenSize * 2, 17)\n",
    "        self.attentionLinear2 = nn.Linear(self.hiddenSize*2, self.inputSize)\n",
    "\n",
    "        self.lstm = nn.LSTM(inputSize, hiddenSize, num_layers, batch_first = True, dropout = dropout, bidirectional = False)   \n",
    "        \n",
    "        self.linear2 = nn.Linear(hiddenSize, outputSize)\n",
    "            \n",
    "    def forward(self, input, hidden, cell, encoderOutputs):  \n",
    "        \n",
    "        out = self.linear1(input)\n",
    "        attentionWeights = F.softmax(self.attentionLinear1(torch.cat((out, (hidden.squeeze(0)).unsqueeze(1)), 2)), dim=2)\n",
    "        weights = torch.bmm(attentionWeights, encoderOutputs)\n",
    "        output = torch.cat((out, weights), 2)\n",
    "        output = self.attentionLinear2(output)\n",
    "        output = F.relu(output)\n",
    "        output, (hidden, cell) = self.lstm(output, (hidden, cell))\n",
    "        output = self.linear2(output)\n",
    "        # return output, hidden, cell\n",
    "        return output, hidden, cell, attentionWeights\n",
    "\n"
   ]
  },
  {
   "cell_type": "code",
   "execution_count": 827,
   "metadata": {},
   "outputs": [],
   "source": [
    "class Seq2Seq(nn.Module):\n",
    "    def __init__(self, encoder, decoder):\n",
    "        super(Seq2Seq, self).__init__()\n",
    "        self.encoder = encoder\n",
    "        self.decoder = decoder\n",
    "    \n",
    "    def forward(self, input, target = None, teacherForceRatio = 0.5):\n",
    "        batchSize = input.shape[0]\n",
    "        targetLength = train_y.shape[1]\n",
    "        targetVocabSize = train_y.shape[2]\n",
    "        outputTensor = torch.zeros(batchSize, targetLength, targetVocabSize).to(device)\n",
    "        attentionweightTensor = torch.zeros(batchSize, targetLength, 17).to(device)\n",
    "        encoderOutput, hidden, cell = self.encoder(input)\n",
    "        # print(hidden.shape)\n",
    "        if(target == None):\n",
    "            x = torch.Tensor(gloveOutput['<sot>']).unsqueeze(0).unsqueeze(0).to(device)\n",
    "        else:\n",
    "            x = target[:, 0, :].unsqueeze(1)\n",
    "        for t in range(1, targetLength):\n",
    "            # output, hidden, cell = self.decoder(x.float(), hidden, cell)\n",
    "            output, hidden, cell, attentionWeight = self.decoder(x.float(), hidden, cell, encoderOutput)\n",
    "            # print(attentionWeight)\n",
    "            outputTensor[:, t-1, :] = output.squeeze(dim = 1)\n",
    "            attentionweightTensor[:, t-1, :] = attentionWeight.squeeze(dim = 1)\n",
    "            x = target[:, t, :].unsqueeze(1) if random.random() < teacherForceRatio else output\n",
    "\n",
    "        # return outputTensor\n",
    "        return outputTensor, attentionweightTensor\n"
   ]
  },
  {
   "cell_type": "code",
   "execution_count": 828,
   "metadata": {},
   "outputs": [],
   "source": [
    "epochs, lr = 30, 0.003\n",
    "encoderNetwork = Encoder(inputSize = 33, outputSize = 200, num_layers = 1, dropout = 0).to(device)\n",
    "decoderNetwork = AttentionDecoder(inputSize = 13, hiddenSize = 200, outputSize = 13, num_layers = 1, dropout = 0).to(device)\n",
    "model = Seq2Seq(encoder = encoderNetwork, decoder = decoderNetwork).to(device)\n",
    "criterion = nn.MSELoss()\n",
    "optimiser = optim.Adam(model.parameters(), lr = lr)"
   ]
  },
  {
   "cell_type": "code",
   "execution_count": 829,
   "metadata": {},
   "outputs": [
    {
     "name": "stderr",
     "output_type": "stream",
     "text": [
      "100%|███████████████████████████████████████████| 90/90 [00:01<00:00, 69.36it/s]\n",
      "100%|███████████████████████████████████████████| 10/10 [00:00<00:00, 44.46it/s]\n"
     ]
    },
    {
     "name": "stdout",
     "output_type": "stream",
     "text": [
      "Epoch 1 Training Loss: 0.05252940642337004 Validation Loss: 0.05411229319870472 accuracy: 0.0\n"
     ]
    },
    {
     "name": "stderr",
     "output_type": "stream",
     "text": [
      "100%|███████████████████████████████████████████| 90/90 [00:01<00:00, 69.84it/s]\n",
      "100%|███████████████████████████████████████████| 10/10 [00:00<00:00, 43.45it/s]\n"
     ]
    },
    {
     "name": "stdout",
     "output_type": "stream",
     "text": [
      "Epoch 2 Training Loss: 0.03197866510599852 Validation Loss: 0.03900008499622345 accuracy: 0.0\n"
     ]
    },
    {
     "name": "stderr",
     "output_type": "stream",
     "text": [
      "100%|███████████████████████████████████████████| 90/90 [00:01<00:00, 63.88it/s]\n",
      "100%|███████████████████████████████████████████| 10/10 [00:00<00:00, 42.73it/s]\n"
     ]
    },
    {
     "name": "stdout",
     "output_type": "stream",
     "text": [
      "Epoch 3 Training Loss: 0.024725930775619215 Validation Loss: 0.03671524487435818 accuracy: 0.05\n"
     ]
    },
    {
     "name": "stderr",
     "output_type": "stream",
     "text": [
      "100%|███████████████████████████████████████████| 90/90 [00:01<00:00, 63.96it/s]\n",
      "100%|███████████████████████████████████████████| 10/10 [00:00<00:00, 43.11it/s]\n"
     ]
    },
    {
     "name": "stdout",
     "output_type": "stream",
     "text": [
      "Epoch 4 Training Loss: 0.019410224760779075 Validation Loss: 0.03152660895138979 accuracy: 0.27499999999999997\n"
     ]
    },
    {
     "name": "stderr",
     "output_type": "stream",
     "text": [
      "100%|███████████████████████████████████████████| 90/90 [00:01<00:00, 63.82it/s]\n",
      "100%|███████████████████████████████████████████| 10/10 [00:00<00:00, 43.02it/s]\n"
     ]
    },
    {
     "name": "stdout",
     "output_type": "stream",
     "text": [
      "Epoch 5 Training Loss: 0.015586569910455081 Validation Loss: 0.024837260879576207 accuracy: 3.175\n"
     ]
    },
    {
     "name": "stderr",
     "output_type": "stream",
     "text": [
      "100%|███████████████████████████████████████████| 90/90 [00:01<00:00, 64.02it/s]\n",
      "100%|███████████████████████████████████████████| 10/10 [00:00<00:00, 42.82it/s]\n"
     ]
    },
    {
     "name": "stdout",
     "output_type": "stream",
     "text": [
      "Epoch 6 Training Loss: 0.01206952908800708 Validation Loss: 0.017404238879680633 accuracy: 17.95\n"
     ]
    },
    {
     "name": "stderr",
     "output_type": "stream",
     "text": [
      "100%|███████████████████████████████████████████| 90/90 [00:01<00:00, 63.96it/s]\n",
      "100%|███████████████████████████████████████████| 10/10 [00:00<00:00, 43.29it/s]\n"
     ]
    },
    {
     "name": "stdout",
     "output_type": "stream",
     "text": [
      "Epoch 7 Training Loss: 0.007862167440665264 Validation Loss: 0.00961513314396143 accuracy: 54.775\n"
     ]
    },
    {
     "name": "stderr",
     "output_type": "stream",
     "text": [
      "100%|███████████████████████████████████████████| 90/90 [00:01<00:00, 63.96it/s]\n",
      "100%|███████████████████████████████████████████| 10/10 [00:00<00:00, 43.23it/s]\n"
     ]
    },
    {
     "name": "stdout",
     "output_type": "stream",
     "text": [
      "Epoch 8 Training Loss: 0.0049532951761244075 Validation Loss: 0.006168743409216404 accuracy: 70.1\n"
     ]
    },
    {
     "name": "stderr",
     "output_type": "stream",
     "text": [
      "100%|███████████████████████████████████████████| 90/90 [00:01<00:00, 57.68it/s]\n",
      "100%|███████████████████████████████████████████| 10/10 [00:00<00:00, 41.94it/s]\n"
     ]
    },
    {
     "name": "stdout",
     "output_type": "stream",
     "text": [
      "Epoch 9 Training Loss: 0.0030410937848500907 Validation Loss: 0.003900349885225296 accuracy: 82.27499999999999\n"
     ]
    },
    {
     "name": "stderr",
     "output_type": "stream",
     "text": [
      "100%|███████████████████████████████████████████| 90/90 [00:01<00:00, 63.49it/s]\n",
      "100%|███████████████████████████████████████████| 10/10 [00:00<00:00, 43.18it/s]\n"
     ]
    },
    {
     "name": "stdout",
     "output_type": "stream",
     "text": [
      "Epoch 10 Training Loss: 0.0019570768784938587 Validation Loss: 0.0024364445824176075 accuracy: 89.60000000000001\n"
     ]
    },
    {
     "name": "stderr",
     "output_type": "stream",
     "text": [
      "100%|███████████████████████████████████████████| 90/90 [00:01<00:00, 63.83it/s]\n",
      "100%|███████████████████████████████████████████| 10/10 [00:00<00:00, 43.18it/s]\n"
     ]
    },
    {
     "name": "stdout",
     "output_type": "stream",
     "text": [
      "Epoch 11 Training Loss: 0.001215667543389524 Validation Loss: 0.0013212976919021457 accuracy: 95.275\n"
     ]
    },
    {
     "name": "stderr",
     "output_type": "stream",
     "text": [
      "100%|███████████████████████████████████████████| 90/90 [00:01<00:00, 63.77it/s]\n",
      "100%|███████████████████████████████████████████| 10/10 [00:00<00:00, 42.75it/s]\n"
     ]
    },
    {
     "name": "stdout",
     "output_type": "stream",
     "text": [
      "Epoch 12 Training Loss: 0.0008259967564501696 Validation Loss: 0.0009980594681110234 accuracy: 96.775\n"
     ]
    },
    {
     "name": "stderr",
     "output_type": "stream",
     "text": [
      "100%|███████████████████████████████████████████| 90/90 [00:01<00:00, 63.98it/s]\n",
      "100%|███████████████████████████████████████████| 10/10 [00:00<00:00, 43.28it/s]\n"
     ]
    },
    {
     "name": "stdout",
     "output_type": "stream",
     "text": [
      "Epoch 13 Training Loss: 0.0006164926018552958 Validation Loss: 0.000693727092584595 accuracy: 96.95\n"
     ]
    },
    {
     "name": "stderr",
     "output_type": "stream",
     "text": [
      "100%|███████████████████████████████████████████| 90/90 [00:01<00:00, 63.53it/s]\n",
      "100%|███████████████████████████████████████████| 10/10 [00:00<00:00, 42.68it/s]\n"
     ]
    },
    {
     "name": "stdout",
     "output_type": "stream",
     "text": [
      "Epoch 14 Training Loss: 0.00046193175561105214 Validation Loss: 0.0005660205730237067 accuracy: 97.0\n"
     ]
    },
    {
     "name": "stderr",
     "output_type": "stream",
     "text": [
      "100%|███████████████████████████████████████████| 90/90 [00:01<00:00, 63.77it/s]\n",
      "100%|███████████████████████████████████████████| 10/10 [00:00<00:00, 42.81it/s]\n"
     ]
    },
    {
     "name": "stdout",
     "output_type": "stream",
     "text": [
      "Epoch 15 Training Loss: 0.0003825703299500876 Validation Loss: 0.0005815974640427157 accuracy: 96.875\n"
     ]
    },
    {
     "name": "stderr",
     "output_type": "stream",
     "text": [
      "100%|███████████████████████████████████████████| 90/90 [00:01<00:00, 64.14it/s]\n",
      "100%|███████████████████████████████████████████| 10/10 [00:00<00:00, 43.60it/s]\n"
     ]
    },
    {
     "name": "stdout",
     "output_type": "stream",
     "text": [
      "Epoch 16 Training Loss: 0.0003580786950705159 Validation Loss: 0.0004729201376903802 accuracy: 97.175\n"
     ]
    },
    {
     "name": "stderr",
     "output_type": "stream",
     "text": [
      "100%|███████████████████████████████████████████| 90/90 [00:01<00:00, 64.63it/s]\n",
      "100%|███████████████████████████████████████████| 10/10 [00:00<00:00, 43.57it/s]\n"
     ]
    },
    {
     "name": "stdout",
     "output_type": "stream",
     "text": [
      "Epoch 17 Training Loss: 0.0003073939700294027 Validation Loss: 0.00044374408316798507 accuracy: 96.925\n"
     ]
    },
    {
     "name": "stderr",
     "output_type": "stream",
     "text": [
      "100%|███████████████████████████████████████████| 90/90 [00:01<00:00, 64.03it/s]\n",
      "100%|███████████████████████████████████████████| 10/10 [00:00<00:00, 42.70it/s]\n"
     ]
    },
    {
     "name": "stdout",
     "output_type": "stream",
     "text": [
      "Epoch 18 Training Loss: 0.0002812820622542252 Validation Loss: 0.0004155768285272643 accuracy: 97.05\n"
     ]
    },
    {
     "name": "stderr",
     "output_type": "stream",
     "text": [
      "100%|███████████████████████████████████████████| 90/90 [00:01<00:00, 47.89it/s]\n",
      "100%|███████████████████████████████████████████| 10/10 [00:00<00:00, 30.32it/s]\n"
     ]
    },
    {
     "name": "stdout",
     "output_type": "stream",
     "text": [
      "Epoch 19 Training Loss: 0.0002598010933272437 Validation Loss: 0.0004107927205041051 accuracy: 97.125\n"
     ]
    },
    {
     "name": "stderr",
     "output_type": "stream",
     "text": [
      "100%|███████████████████████████████████████████| 90/90 [00:02<00:00, 44.61it/s]\n",
      "100%|███████████████████████████████████████████| 10/10 [00:00<00:00, 31.06it/s]\n"
     ]
    },
    {
     "name": "stdout",
     "output_type": "stream",
     "text": [
      "Epoch 20 Training Loss: 0.00026600978962960654 Validation Loss: 0.000394236232386902 accuracy: 97.0\n"
     ]
    },
    {
     "name": "stderr",
     "output_type": "stream",
     "text": [
      "100%|███████████████████████████████████████████| 90/90 [00:02<00:00, 44.96it/s]\n",
      "100%|███████████████████████████████████████████| 10/10 [00:00<00:00, 30.07it/s]\n"
     ]
    },
    {
     "name": "stdout",
     "output_type": "stream",
     "text": [
      "Epoch 21 Training Loss: 0.0002371323473198572 Validation Loss: 0.00039673236606176945 accuracy: 97.15\n"
     ]
    },
    {
     "name": "stderr",
     "output_type": "stream",
     "text": [
      "100%|███████████████████████████████████████████| 90/90 [00:01<00:00, 56.96it/s]\n",
      "100%|███████████████████████████████████████████| 10/10 [00:00<00:00, 41.70it/s]\n"
     ]
    },
    {
     "name": "stdout",
     "output_type": "stream",
     "text": [
      "Epoch 22 Training Loss: 0.00022233656980258983 Validation Loss: 0.0004038830637000501 accuracy: 97.02499999999999\n"
     ]
    },
    {
     "name": "stderr",
     "output_type": "stream",
     "text": [
      "100%|███████████████████████████████████████████| 90/90 [00:01<00:00, 68.96it/s]\n",
      "100%|███████████████████████████████████████████| 10/10 [00:00<00:00, 43.41it/s]\n"
     ]
    },
    {
     "name": "stdout",
     "output_type": "stream",
     "text": [
      "Epoch 23 Training Loss: 0.0002215731290359852 Validation Loss: 0.0003762264808756299 accuracy: 97.175\n"
     ]
    },
    {
     "name": "stderr",
     "output_type": "stream",
     "text": [
      "100%|███████████████████████████████████████████| 90/90 [00:01<00:00, 69.04it/s]\n",
      "100%|███████████████████████████████████████████| 10/10 [00:00<00:00, 43.70it/s]\n"
     ]
    },
    {
     "name": "stdout",
     "output_type": "stream",
     "text": [
      "Epoch 24 Training Loss: 0.00020581343305821066 Validation Loss: 0.0006809134007198736 accuracy: 95.575\n"
     ]
    },
    {
     "name": "stderr",
     "output_type": "stream",
     "text": [
      "100%|███████████████████████████████████████████| 90/90 [00:01<00:00, 69.05it/s]\n",
      "100%|███████████████████████████████████████████| 10/10 [00:00<00:00, 41.93it/s]\n"
     ]
    },
    {
     "name": "stdout",
     "output_type": "stream",
     "text": [
      "Epoch 25 Training Loss: 0.0009244546707325046 Validation Loss: 0.0004341923107858747 accuracy: 96.975\n"
     ]
    },
    {
     "name": "stderr",
     "output_type": "stream",
     "text": [
      "100%|███████████████████████████████████████████| 90/90 [00:01<00:00, 58.68it/s]\n",
      "100%|███████████████████████████████████████████| 10/10 [00:00<00:00, 43.50it/s]\n"
     ]
    },
    {
     "name": "stdout",
     "output_type": "stream",
     "text": [
      "Epoch 26 Training Loss: 0.00021811998522025533 Validation Loss: 0.0003873540612403303 accuracy: 96.95\n"
     ]
    },
    {
     "name": "stderr",
     "output_type": "stream",
     "text": [
      "100%|███████████████████████████████████████████| 90/90 [00:01<00:00, 68.98it/s]\n",
      "100%|███████████████████████████████████████████| 10/10 [00:00<00:00, 42.70it/s]\n"
     ]
    },
    {
     "name": "stdout",
     "output_type": "stream",
     "text": [
      "Epoch 27 Training Loss: 0.00020652352500797455 Validation Loss: 0.0003705923445522785 accuracy: 97.2\n"
     ]
    },
    {
     "name": "stderr",
     "output_type": "stream",
     "text": [
      "100%|███████████████████████████████████████████| 90/90 [00:01<00:00, 64.61it/s]\n",
      "100%|███████████████████████████████████████████| 10/10 [00:00<00:00, 43.41it/s]\n"
     ]
    },
    {
     "name": "stdout",
     "output_type": "stream",
     "text": [
      "Epoch 28 Training Loss: 0.0001976221601378509 Validation Loss: 0.0003859502365230583 accuracy: 97.1\n"
     ]
    },
    {
     "name": "stderr",
     "output_type": "stream",
     "text": [
      "100%|███████████████████████████████████████████| 90/90 [00:01<00:00, 63.54it/s]\n",
      "100%|███████████████████████████████████████████| 10/10 [00:00<00:00, 43.35it/s]\n"
     ]
    },
    {
     "name": "stdout",
     "output_type": "stream",
     "text": [
      "Epoch 29 Training Loss: 0.00019160919940380456 Validation Loss: 0.00038080657832324506 accuracy: 97.02499999999999\n"
     ]
    },
    {
     "name": "stderr",
     "output_type": "stream",
     "text": [
      "100%|███████████████████████████████████████████| 90/90 [00:01<00:00, 69.71it/s]\n",
      "100%|███████████████████████████████████████████| 10/10 [00:00<00:00, 44.12it/s]"
     ]
    },
    {
     "name": "stdout",
     "output_type": "stream",
     "text": [
      "Epoch 30 Training Loss: 0.00019680718370283204 Validation Loss: 0.0003524571380694397 accuracy: 97.125\n"
     ]
    },
    {
     "name": "stderr",
     "output_type": "stream",
     "text": [
      "\n"
     ]
    }
   ],
   "source": [
    "trainLoss = []\n",
    "valLoss = []\n",
    "for epoch in range(epochs):\n",
    "    tLoss = 0\n",
    "    vLoss = 0\n",
    "    count = 0\n",
    "    model.train()\n",
    "    for x, y in tqdm(trainLoader):\n",
    "        x, y = x.to(device), y.to(device) \n",
    "        # output = model(x, y)\n",
    "        output, weight = model(x, y)\n",
    "        optimiser.zero_grad()\n",
    "        loss = criterion(output[:, 1:-1, :], y[:, 1:-1, :].float())\n",
    "        loss.backward()\n",
    "        optimiser.step()\n",
    "        tLoss += loss.item()\n",
    "        \n",
    "    \n",
    "    model.eval()\n",
    "    with torch.no_grad():\n",
    "        for x, y in tqdm(valLoader):\n",
    "            x, y = x.to(device), y.to(device) \n",
    "            # output = model(x, y, 0)\n",
    "            output, weight = model(x, y, 0)\n",
    "            loss = criterion(output[:, 1:-1, :], y[:, 1:-1, :].float())\n",
    "            vLoss += loss.item()\n",
    "\n",
    "            predictedY = torch.argmax(output, dim = 2)\n",
    "            trueY = torch.argmax(y, dim = 2)\n",
    "            for batch in range(y.shape[0]):\n",
    "                predictedIndexList = list(predictedY[batch].cpu().detach().numpy())\n",
    "                predictedDate = ''.join(reverseGlove[i] for i in predictedIndexList[1: -1])\n",
    "                trueIndexList = list(trueY[batch].cpu().detach().numpy())\n",
    "                trueDate = ''.join(reverseGlove[i] for i in trueIndexList[1: -1])\n",
    "                if(predictedDate == trueDate):\n",
    "                    count += 1\n",
    "    \n",
    "    acc = (count/4000)*100\n",
    "    print(f'Epoch {epoch+1} Training Loss: {tLoss/len(trainLoader)} Validation Loss: {vLoss/len(valLoader)} accuracy: {acc}')"
   ]
  },
  {
   "cell_type": "code",
   "execution_count": 830,
   "metadata": {},
   "outputs": [
    {
     "name": "stdout",
     "output_type": "stream",
     "text": [
      "jan 24 1752       ,  1752-01-24 ----> 1752-01-24\n",
      "1981 15 december  ,  1981-12-15 ----> 1981-12-15\n",
      "23 february 1806  ,  1806-02-23 ----> 1806-02-23\n",
      "december 18 1874  ,  1874-12-18 ----> 1874-12-18\n",
      "nov 3 2070        ,  2070-11-03 ----> 2070-11-03\n",
      "4/22/27           ,  1827-04-22 ----> 1727-04-22\n",
      "1906 14 july      ,  1906-07-14 ----> 1906-07-14\n",
      "april 3 2000      ,  2000-04-03 ----> 2000-04-03\n",
      "july 7 1559       ,  1559-07-07 ----> 1559-07-07\n",
      "5 march 2016      ,  2016-03-05 ----> 2016-03-05\n"
     ]
    }
   ],
   "source": [
    "for x, y in valLoader:\n",
    "    x, y = x.to(device), y.to(device) \n",
    "    # output = model(x, y, 0)\n",
    "    output, weight = model(x, y, 0)\n",
    "    # print(weight)\n",
    "    inputX = torch.argmax(x, dim = 2)\n",
    "    predictedY = torch.argmax(output, dim = 2)\n",
    "    trueY = torch.argmax(y, dim = 2)\n",
    "    for batch in range(10):\n",
    "        predictedIndexList = list(predictedY[batch].cpu().detach().numpy())\n",
    "        predictedDate = ''.join(reverseGlove[i] for i in predictedIndexList[1: -1])\n",
    "        trueIndexList = list(trueY[batch].cpu().detach().numpy())\n",
    "        trueDate = ''.join(reverseGlove[i] for i in trueIndexList[1: -1])\n",
    "        inputIndexList = list(inputX[batch].cpu().detach().numpy())\n",
    "        inputDate = ''.join(reverseGloveInput[i] for i in inputIndexList)\n",
    "        print(inputDate,', ', trueDate, '---->', predictedDate)\n",
    "    break"
   ]
  },
  {
   "cell_type": "code",
   "execution_count": 835,
   "metadata": {},
   "outputs": [
    {
     "name": "stdout",
     "output_type": "stream",
     "text": [
      "8 sept 1918       ----> 1918-09-08\n"
     ]
    },
    {
     "data": {
      "image/png": "[encoded data removed]",
      "text/plain": [
       "<Figure size 864x864 with 1 Axes>"
      ]
     },
     "metadata": {
      "needs_background": "light"
     },
     "output_type": "display_data"
    }
   ],
   "source": [
    "def visualize(str):\n",
    "    complete_char_list = human_date_to_char_list(str)\n",
    "    train_X = [char_list_to_vector(complete_char_list,17)]\n",
    "    train_X = torch.Tensor(np.array(train_X))\n",
    "    train_X = train_X.to(device)\n",
    "    output, weight = model(train_X, teacherForceRatio = 0)\n",
    "    predictedY = torch.argmax(output, dim = 2)\n",
    "    inputX = torch.argmax(train_X, dim = 2)\n",
    "    batch = 0\n",
    "    predictedIndexList = list(predictedY[batch].cpu().detach().numpy())\n",
    "    predictedDate = ''.join(reverseGloveOutput[i] for i in predictedIndexList[1: -1])\n",
    "    inputIndexList = list(inputX[batch].cpu().detach().numpy())\n",
    "    inputDate = ''.join(reverseGloveInput[i] for i in inputIndexList)\n",
    "    print(inputDate,'---->', predictedDate)\n",
    "    \n",
    "    plt.imshow(weight[:,1:-1,:].squeeze().detach().cpu().numpy())\n",
    "    x_pos = np.arange(len(inputDate))\n",
    "    y_pos = np.arange(len(predictedDate))\n",
    "    plt.rcParams[\"figure.figsize\"] = (12,12)\n",
    "    plt.xticks(x_pos, list(inputDate), color='black', fontsize='14')\n",
    "    plt.yticks(y_pos, list(predictedDate), color='black', fontsize='14', horizontalalignment='right')\n",
    "    plt.show()\n",
    "        \n",
    "visualize('8 sept 1918')\n"
   ]
  },
  {
   "cell_type": "code",
   "execution_count": null,
   "metadata": {},
   "outputs": [],
   "source": []
  }
 ],
 "metadata": {
  "accelerator": "GPU",
  "colab": {
   "provenance": []
  },
  "kernelspec": {
   "display_name": "Python 3 (ipykernel)",
   "language": "python",
   "name": "python3"
  },
  "language_info": {
   "codemirror_mode": {
    "name": "ipython",
    "version": 3
   },
   "file_extension": ".py",
   "mimetype": "text/x-python",
   "name": "python",
   "nbconvert_exporter": "python",
   "pygments_lexer": "ipython3",
   "version": "3.9.12"
  }
 },
 "nbformat": 4,
 "nbformat_minor": 1
}
